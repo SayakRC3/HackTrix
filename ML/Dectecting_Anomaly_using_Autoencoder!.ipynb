{
  "metadata": {
    "kernelspec": {
      "language": "python",
      "display_name": "Python 3",
      "name": "python3"
    },
    "language_info": {
      "pygments_lexer": "ipython3",
      "nbconvert_exporter": "python",
      "version": "3.6.4",
      "file_extension": ".py",
      "codemirror_mode": {
        "name": "ipython",
        "version": 3
      },
      "name": "python",
      "mimetype": "text/x-python"
    },
    "colab": {
      "name": "Dectecting Anomaly using Autoencoder!",
      "provenance": []
    }
  },
  "nbformat_minor": 0,
  "nbformat": 4,
  "cells": [
    {
      "source": [
        "\n",
        "# IMPORTANT: RUN THIS CELL IN ORDER TO IMPORT YOUR KAGGLE DATA SOURCES\n",
        "# TO THE CORRECT LOCATION (/kaggle/input) IN YOUR NOTEBOOK,\n",
        "# THEN FEEL FREE TO DELETE THIS CELL.\n",
        "# NOTE: THIS NOTEBOOK ENVIRONMENT DIFFERS FROM KAGGLE'S PYTHON\n",
        "# ENVIRONMENT SO THERE MAY BE MISSING LIBRARIES USED BY YOUR\n",
        "# NOTEBOOK.\n",
        "\n",
        "import os\n",
        "import sys\n",
        "from tempfile import NamedTemporaryFile\n",
        "from urllib.request import urlopen\n",
        "from urllib.parse import unquote, urlparse\n",
        "from urllib.error import HTTPError\n",
        "from zipfile import ZipFile\n",
        "import tarfile\n",
        "import shutil\n",
        "\n",
        "CHUNK_SIZE = 40960\n",
        "DATA_SOURCE_MAPPING = 'ecg-dataset:https%3A%2F%2Fstorage.googleapis.com%2Fkaggle-data-sets%2F1103711%2F1855358%2Fbundle%2Farchive.zip%3FX-Goog-Algorithm%3DGOOG4-RSA-SHA256%26X-Goog-Credential%3Dgcp-kaggle-com%2540kaggle-161607.iam.gserviceaccount.com%252F20240304%252Fauto%252Fstorage%252Fgoog4_request%26X-Goog-Date%3D20240304T103328Z%26X-Goog-Expires%3D259200%26X-Goog-SignedHeaders%3Dhost%26X-Goog-Signature%3D65e48736485f149e9c126aefefced4d125cced463ba8e3b4e61dbbfd57f46b1a75c1cae584c4759c2b4ee2b6c2519adf27549996b74bef9b54b5a6303fc183f38d55e6f2c26a67ee815b343ab67430ec3bef24d1f65eb7a7df6472c23c0f99e7860d38b6aa71d18eeb85b28a4a52d05b0610a499aec4f516a376cefea0845699abab3f61b609fb334c089e1acf721950abdad45566138f229d6ad579b505de53b945cd3b247647e0fb1fa408a5495ae527e9bf5586d4e7fc29b3524eaa9df181dd24d6361e6d72c29c3134bbaddf1c3691715337dc1b3a3a33d56330ce192e00d9c62c633b39e88c57762bcaeaf676dccf0865c805c47c533e167792ae444f3e,eeg-and-ecg-datasets:https%3A%2F%2Fstorage.googleapis.com%2Fkaggle-data-sets%2F1106140%2F1859078%2Fbundle%2Farchive.zip%3FX-Goog-Algorithm%3DGOOG4-RSA-SHA256%26X-Goog-Credential%3Dgcp-kaggle-com%2540kaggle-161607.iam.gserviceaccount.com%252F20240304%252Fauto%252Fstorage%252Fgoog4_request%26X-Goog-Date%3D20240304T103329Z%26X-Goog-Expires%3D259200%26X-Goog-SignedHeaders%3Dhost%26X-Goog-Signature%3D9f1f7cda88a7f6059b4575a06e79de1c745fdd5291d5c3b35b773fbfd9c5a077c13211e2c0398ea21437bcbc74d3af04a4c019e1a15dff75dd007341992ad3cd770fc1ff03ccaeaf09afa09e3d248cf66144d4ef77e6ffa2d37a4ce1e2318686df897283183268075376e29ed75e3eeb38b621af9872bc49a8985fe955b18ba26043e6f64bc85fb5e381f0d242043e06ddbd1fc64a428bce5d905bb4071bf78da21973a4d34b39842ffa8e335fbd0c1d2f8b7dff5d431ca57ef5c460b059466c1ece872489a05e259301a289e2560e64aba33f8683c6407cc42e24a7afec48f54d90381a593aede22a7eb677fde18baee2f7086ac5266ee4034485eadf23947d,ecg-signal:https%3A%2F%2Fstorage.googleapis.com%2Fkaggle-data-sets%2F1142426%2F1915759%2Fbundle%2Farchive.zip%3FX-Goog-Algorithm%3DGOOG4-RSA-SHA256%26X-Goog-Credential%3Dgcp-kaggle-com%2540kaggle-161607.iam.gserviceaccount.com%252F20240304%252Fauto%252Fstorage%252Fgoog4_request%26X-Goog-Date%3D20240304T103329Z%26X-Goog-Expires%3D259200%26X-Goog-SignedHeaders%3Dhost%26X-Goog-Signature%3D191eac964ac2ef12d73ec2b624cbc0935f4d7f16c3abce54fd56f3024514b503fbe0dcaa49b66cddd131c12e95e9a05752fa15e78432d97b90c7ab13adda434a684df2711b476e25f2c6c6b48b51d6a0ab3ad13c99fc2e89d72bf69c121395bd9b70ffc3c8f576a04991caf127e341a79a7ef02a270fa84fac82054dcfb9a76b019b1e2e4edef897c25263aa2715921e15dea3dff573988fa70a4faeedb009ac2703b0c151c54670ff21709fc0978e3ba41810d2c29b1bed93aa957274d589d894ccf642b54c411fd29b892accf4144220eb31d26b4f342ec288804faf8bd9b073bf6ec771ebae4626931f71d5f17d4b77439c15295a1735b50026cb5f4fb381'\n",
        "\n",
        "KAGGLE_INPUT_PATH='/kaggle/input'\n",
        "KAGGLE_WORKING_PATH='/kaggle/working'\n",
        "KAGGLE_SYMLINK='kaggle'\n",
        "\n",
        "!umount /kaggle/input/ 2> /dev/null\n",
        "shutil.rmtree('/kaggle/input', ignore_errors=True)\n",
        "os.makedirs(KAGGLE_INPUT_PATH, 0o777, exist_ok=True)\n",
        "os.makedirs(KAGGLE_WORKING_PATH, 0o777, exist_ok=True)\n",
        "\n",
        "try:\n",
        "  os.symlink(KAGGLE_INPUT_PATH, os.path.join(\"..\", 'input'), target_is_directory=True)\n",
        "except FileExistsError:\n",
        "  pass\n",
        "try:\n",
        "  os.symlink(KAGGLE_WORKING_PATH, os.path.join(\"..\", 'working'), target_is_directory=True)\n",
        "except FileExistsError:\n",
        "  pass\n",
        "\n",
        "for data_source_mapping in DATA_SOURCE_MAPPING.split(','):\n",
        "    directory, download_url_encoded = data_source_mapping.split(':')\n",
        "    download_url = unquote(download_url_encoded)\n",
        "    filename = urlparse(download_url).path\n",
        "    destination_path = os.path.join(KAGGLE_INPUT_PATH, directory)\n",
        "    try:\n",
        "        with urlopen(download_url) as fileres, NamedTemporaryFile() as tfile:\n",
        "            total_length = fileres.headers['content-length']\n",
        "            print(f'Downloading {directory}, {total_length} bytes compressed')\n",
        "            dl = 0\n",
        "            data = fileres.read(CHUNK_SIZE)\n",
        "            while len(data) > 0:\n",
        "                dl += len(data)\n",
        "                tfile.write(data)\n",
        "                done = int(50 * dl / int(total_length))\n",
        "                sys.stdout.write(f\"\\r[{'=' * done}{' ' * (50-done)}] {dl} bytes downloaded\")\n",
        "                sys.stdout.flush()\n",
        "                data = fileres.read(CHUNK_SIZE)\n",
        "            if filename.endswith('.zip'):\n",
        "              with ZipFile(tfile) as zfile:\n",
        "                zfile.extractall(destination_path)\n",
        "            else:\n",
        "              with tarfile.open(tfile.name) as tarfile:\n",
        "                tarfile.extractall(destination_path)\n",
        "            print(f'\\nDownloaded and uncompressed: {directory}')\n",
        "    except HTTPError as e:\n",
        "        print(f'Failed to load (likely expired) {download_url} to path {destination_path}')\n",
        "        continue\n",
        "    except OSError as e:\n",
        "        print(f'Failed to load {download_url} to path {destination_path}')\n",
        "        continue\n",
        "\n",
        "print('Data source import complete.')\n"
      ],
      "metadata": {
        "id": "PYBlHsz8Bqm5"
      },
      "cell_type": "code",
      "outputs": [],
      "execution_count": null
    },
    {
      "cell_type": "code",
      "source": [
        "# This Python 3 environment comes with many helpful analytics libraries installed\n",
        "# It is defined by the kaggle/python Docker image: https://github.com/kaggle/docker-python\n",
        "# For example, here's several helpful packages to load\n",
        "\n",
        "import numpy as np # linear algebra\n",
        "import pandas as pd # data processing, CSV file I/O (e.g. pd.read_csv)\n",
        "\n",
        "# Input data files are available in the read-only \"../input/\" directory\n",
        "# For example, running this (by clicking run or pressing Shift+Enter) will list all files under the input directory\n",
        "\n",
        "import os\n",
        "for dirname, _, filenames in os.walk('/kaggle/input'):\n",
        "    for filename in filenames:\n",
        "        print(os.path.join(dirname, filename))\n",
        "\n",
        "# You can write up to 20GB to the current directory (/kaggle/working/) that gets preserved as output when you create a version using \"Save & Run All\"\n",
        "# You can also write temporary files to /kaggle/temp/, but they won't be saved outside of the current session"
      ],
      "metadata": {
        "_uuid": "8f2839f25d086af736a60e9eeb907d3b93b6e0e5",
        "_cell_guid": "b1076dfc-b9ad-4769-8c92-a6c4dae69d19",
        "_kg_hide-output": true,
        "_kg_hide-input": true,
        "execution": {
          "iopub.status.busy": "2022-01-21T11:16:38.195063Z",
          "iopub.execute_input": "2022-01-21T11:16:38.195473Z",
          "iopub.status.idle": "2022-01-21T11:16:38.216737Z",
          "shell.execute_reply.started": "2022-01-21T11:16:38.195451Z",
          "shell.execute_reply": "2022-01-21T11:16:38.216156Z"
        },
        "trusted": true,
        "id": "_MX0eQX0Bqm5"
      },
      "execution_count": null,
      "outputs": []
    },
    {
      "cell_type": "markdown",
      "source": [
        "<hr style=\"border: solid 3px blue;\">\n",
        "\n",
        "# Introduction\n",
        "\n",
        "![blog.keras.io](https://cainvas-static.s3.amazonaws.com/media/user_data/cainvas-admin/heart-beat-anomaly.gif)\n",
        "\n",
        "Picture credit: https://cainvas-static.s3.amazonaws.com\n",
        "\n",
        "**What is anomaly detection?**\n",
        "> Anomaly detection (aka outlier analysis) is a step in data mining that identifies data points, events, and/or observations that deviate from a dataset’s normal behavior. Anomalous data can indicate critical incidents, such as a technical glitch, or potential opportunities, for instance a change in consumer behavior. Machine learning is progressively being used to automate anomaly detection.\n",
        "\n",
        "Ref: https://www.anodot.com/blog/what-is-anomaly-detection\n",
        "\n"
      ],
      "metadata": {
        "id": "fhlqwjbdBqm6"
      }
    },
    {
      "cell_type": "markdown",
      "source": [
        "----------------------------------\n",
        "**Autoencoder-based anomaly detection**\n",
        "\n",
        "> **Autoencoder-based anomaly detection** is to perform anomaly detection by compressing normal data into a latent space of a smaller dimension than the original data through the autoencoder, then restoring it and comparing the difference between the restored data and the original data.\n",
        "> The part that encodes the normal data to the lower dimension is called the encoder, and the part that decodes the compressed sample back to the original dimension is called the decoder.\n",
        "> The data expression in the latent space where the data is compressed by the encoder is called a latent variable. The autoencoder learns through the process of minimizing the difference between the original data and the restored data, and in the process, the features of the learning data are naturally extracted to construct a latent space.\n",
        ">\n",
        "> The specific way an autoencoder compares the input and output differences also determines the performance and characteristics of anomaly detection. The most basic method considers the original data and the restored data as points in the n-dimensional coordinate space, and uses the distance between the two points as an index of the input/output difference. This metric is called the reconstruction error. Since the autoencoder used for anomaly detection is trained to restore normal data well, compression and restoration cannot be performed effectively when abnormal data is input. Therefore, the abnormal data has a large restoration error.\n",
        ">\n",
        "> The restoration error can be used as one of the anomaly scores that indicate the degree of anomaly of a given data. If the anomaly score is greater than a predetermined threshold, the data is considered anomaly, and if it is small, it is considered normal. Thresholds are set differently depending on the specific characteristics and requirements of the anomaly detection you want to perform."
      ],
      "metadata": {
        "id": "1u4brT0wBqm7"
      }
    },
    {
      "cell_type": "markdown",
      "source": [
        "------------------------------------------------------------------\n",
        "## What is Autoencoder?\n",
        "\n",
        "![](https://lilianweng.github.io/lil-log/assets/images/autoencoder-architecture.png)\n",
        "\n",
        "Picture Credit: https://lilianweng.github.io\n",
        "\n",
        "The auto encoder learns to produce the same output as the input as much as possible. Through this learning process, the representation of the input can be effectively compressed in the latent space. In other words, it compresses the dimensions and stores the representation of the input in the latent space."
      ],
      "metadata": {
        "id": "fOAuBX_XBqm7"
      }
    },
    {
      "cell_type": "code",
      "source": [
        "import matplotlib.pyplot as plt\n",
        "import numpy as np\n",
        "import pandas as pd\n",
        "import tensorflow as tf\n",
        "import seaborn as sns\n",
        "\n",
        "from sklearn.metrics import accuracy_score, precision_score, recall_score, roc_auc_score\n",
        "from sklearn.metrics import f1_score, confusion_matrix, precision_recall_curve, roc_curve\n",
        "from sklearn.metrics import ConfusionMatrixDisplay\n",
        "\n",
        "from sklearn.model_selection import train_test_split\n",
        "from tensorflow.keras import layers, losses\n",
        "from tensorflow.keras.datasets import fashion_mnist\n",
        "from tensorflow.keras.models import Model\n",
        "\n",
        "import umap\n",
        "import umap.plot\n",
        "\n",
        "from plotly.subplots import make_subplots\n",
        "import plotly.graph_objects as go"
      ],
      "metadata": {
        "_kg_hide-output": true,
        "execution": {
          "iopub.status.busy": "2022-01-21T11:16:38.218456Z",
          "iopub.execute_input": "2022-01-21T11:16:38.218917Z",
          "iopub.status.idle": "2022-01-21T11:17:05.648482Z",
          "shell.execute_reply.started": "2022-01-21T11:16:38.218886Z",
          "shell.execute_reply": "2022-01-21T11:17:05.647932Z"
        },
        "trusted": true,
        "id": "UQGhmh_OBqm7"
      },
      "execution_count": null,
      "outputs": []
    },
    {
      "cell_type": "markdown",
      "source": [
        "> This dataset contains the ECG readings of patients.\n",
        "> Each row corresponds to a single complete ECG of a patient. Every single ECG is composed of 140 data points(readings).\n",
        ">  \n",
        "> 1. Columns 0-139 contain the ECG data point for a particular patient. These are floating point numbers.\n",
        "> 2. The label which shows whether the ECG is normal or abnormal. It is a categorical variable with value either 0 or 1."
      ],
      "metadata": {
        "id": "p6Ea-LatBqm7"
      }
    },
    {
      "cell_type": "markdown",
      "source": [
        "-------------------------------------------------\n",
        "# Utility Functions"
      ],
      "metadata": {
        "id": "LsBGzdoABqm8"
      }
    },
    {
      "cell_type": "code",
      "source": [
        "def get_clf_eval(y_test, pred=None, pred_proba=None):\n",
        "    confusion = confusion_matrix( y_test, pred)\n",
        "    accuracy = accuracy_score(y_test , pred)\n",
        "    precision = precision_score(y_test , pred)\n",
        "    recall = recall_score(y_test , pred)\n",
        "    f1 = f1_score(y_test,pred)\n",
        "\n",
        "    roc_auc = roc_auc_score(y_test, pred_proba)\n",
        "    print('confusion matrix')\n",
        "    print(confusion)\n",
        "\n",
        "    # ROC-AUC print\n",
        "    print('accuracy: {0:.4f}, precision: {1:.4f}, recall: {2:.4f},\\\n",
        "    F1: {3:.4f}, AUC:{4:.4f}'.format(accuracy, precision, recall, f1, roc_auc))\n",
        "    return confusion"
      ],
      "metadata": {
        "execution": {
          "iopub.status.busy": "2022-01-21T11:17:05.649558Z",
          "iopub.execute_input": "2022-01-21T11:17:05.649836Z",
          "iopub.status.idle": "2022-01-21T11:17:05.655274Z",
          "shell.execute_reply.started": "2022-01-21T11:17:05.649812Z",
          "shell.execute_reply": "2022-01-21T11:17:05.654253Z"
        },
        "trusted": true,
        "id": "e7-szLw0Bqm8"
      },
      "execution_count": null,
      "outputs": []
    },
    {
      "cell_type": "markdown",
      "source": [
        "------------------------------------------\n",
        "# Doing Simple EDA"
      ],
      "metadata": {
        "id": "ZWupwaXsBqm8"
      }
    },
    {
      "cell_type": "code",
      "source": [
        "dataframe = pd.read_csv('/kaggle/input/ecg-dataset/ecg.csv', header=None)\n",
        "raw_data = dataframe.values\n",
        "dataframe.head().style.set_properties(**{'background-color': 'black',\n",
        "                           'color': 'white',\n",
        "                           'border-color': 'white'})"
      ],
      "metadata": {
        "execution": {
          "iopub.status.busy": "2022-01-21T11:22:21.544017Z",
          "iopub.execute_input": "2022-01-21T11:22:21.544253Z",
          "iopub.status.idle": "2022-01-21T11:22:21.896374Z",
          "shell.execute_reply.started": "2022-01-21T11:22:21.544231Z",
          "shell.execute_reply": "2022-01-21T11:22:21.895357Z"
        },
        "trusted": true,
        "id": "ZHXrlV53Bqm8"
      },
      "execution_count": null,
      "outputs": []
    },
    {
      "cell_type": "markdown",
      "source": [
        "## Checking Target Imblance"
      ],
      "metadata": {
        "id": "K2Q04WfABqm9"
      }
    },
    {
      "cell_type": "code",
      "source": [
        "colors = ['gold', 'mediumturquoise']\n",
        "labels = ['Normal','Abnormal']\n",
        "values = dataframe[140].value_counts()/dataframe[140].shape[0]\n",
        "\n",
        "fig = go.Figure(data=[go.Pie(labels=labels, values=values, hole=.3)])\n",
        "fig.update_traces(hoverinfo='label+percent', textinfo='percent', textfont_size=20,\n",
        "                  marker=dict(colors=colors, line=dict(color='white', width=0.1)))\n",
        "fig.update_layout(\n",
        "    title_text=\"ECG dataset\",\n",
        "    title_font_color=\"white\",\n",
        "    legend_title_font_color=\"yellow\",\n",
        "    paper_bgcolor=\"black\",\n",
        "    plot_bgcolor='black',\n",
        "    font_color=\"white\",\n",
        ")\n",
        "fig.show()"
      ],
      "metadata": {
        "execution": {
          "iopub.status.busy": "2022-01-21T11:17:06.081826Z",
          "iopub.execute_input": "2022-01-21T11:17:06.082665Z",
          "iopub.status.idle": "2022-01-21T11:17:06.302022Z",
          "shell.execute_reply.started": "2022-01-21T11:17:06.082615Z",
          "shell.execute_reply": "2022-01-21T11:17:06.301245Z"
        },
        "trusted": true,
        "id": "xXEQroVjBqm9"
      },
      "execution_count": null,
      "outputs": []
    },
    {
      "cell_type": "markdown",
      "source": [
        "**OK! Target distribution is balanced.**"
      ],
      "metadata": {
        "id": "YkFE5LpJBqm-"
      }
    },
    {
      "cell_type": "markdown",
      "source": [
        "----------------------------------------------------\n",
        "# Splitting Dataset"
      ],
      "metadata": {
        "id": "k9dHvG2_Bqm-"
      }
    },
    {
      "cell_type": "code",
      "source": [
        "# The last element contains the labels\n",
        "labels = raw_data[:, -1]\n",
        "\n",
        "# The other data points are the electrocadriogram data\n",
        "data = raw_data[:, 0:-1]\n",
        "\n",
        "train_data, test_data, train_labels, test_labels = train_test_split(\n",
        "    data, labels, test_size=0.2, random_state=21\n",
        ")"
      ],
      "metadata": {
        "execution": {
          "iopub.status.busy": "2022-01-21T11:17:06.303695Z",
          "iopub.execute_input": "2022-01-21T11:17:06.303961Z",
          "iopub.status.idle": "2022-01-21T11:17:06.316283Z",
          "shell.execute_reply.started": "2022-01-21T11:17:06.303937Z",
          "shell.execute_reply": "2022-01-21T11:17:06.315689Z"
        },
        "trusted": true,
        "id": "GAzafcUPBqm-"
      },
      "execution_count": null,
      "outputs": []
    },
    {
      "cell_type": "markdown",
      "source": [
        "-----------------------------------------------------------------------\n",
        "# Preprocessing"
      ],
      "metadata": {
        "id": "i2UCcC3OBqm-"
      }
    },
    {
      "cell_type": "code",
      "source": [
        "min_val = tf.reduce_min(train_data)\n",
        "max_val = tf.reduce_max(train_data)\n",
        "\n",
        "train_data = (train_data - min_val) / (max_val - min_val)\n",
        "test_data = (test_data - min_val) / (max_val - min_val)\n",
        "\n",
        "train_data = tf.cast(train_data, tf.float32)\n",
        "test_data = tf.cast(test_data, tf.float32)"
      ],
      "metadata": {
        "_kg_hide-output": true,
        "execution": {
          "iopub.status.busy": "2022-01-21T11:17:06.317362Z",
          "iopub.execute_input": "2022-01-21T11:17:06.317538Z",
          "iopub.status.idle": "2022-01-21T11:17:06.398001Z",
          "shell.execute_reply.started": "2022-01-21T11:17:06.317516Z",
          "shell.execute_reply": "2022-01-21T11:17:06.396993Z"
        },
        "trusted": true,
        "id": "rMtAnnY8Bqm-"
      },
      "execution_count": null,
      "outputs": []
    },
    {
      "cell_type": "markdown",
      "source": [
        "Train the autoencoder using only the normal rhythm labeled 1 on this dataset. Separates normal and abnormal rhythms."
      ],
      "metadata": {
        "id": "HDiFLv4oBqm_"
      }
    },
    {
      "cell_type": "code",
      "source": [
        "train_labels = train_labels.astype(bool)\n",
        "test_labels = test_labels.astype(bool)\n",
        "\n",
        "print(\"the length of train :\",len(train_labels))\n",
        "print(\"the length of test :\",len(test_labels))\n",
        "\n",
        "normal_train_data = train_data[train_labels]\n",
        "normal_test_data = test_data[test_labels]\n",
        "\n",
        "anomalous_train_data = train_data[~train_labels]\n",
        "anomalous_test_data = test_data[~test_labels]"
      ],
      "metadata": {
        "execution": {
          "iopub.status.busy": "2022-01-21T11:17:06.399094Z",
          "iopub.execute_input": "2022-01-21T11:17:06.399283Z",
          "iopub.status.idle": "2022-01-21T11:17:06.450937Z",
          "shell.execute_reply.started": "2022-01-21T11:17:06.399259Z",
          "shell.execute_reply": "2022-01-21T11:17:06.449684Z"
        },
        "trusted": true,
        "id": "zbAe93stBqm_"
      },
      "execution_count": null,
      "outputs": []
    },
    {
      "cell_type": "markdown",
      "source": [
        "Plot the normal ECG."
      ],
      "metadata": {
        "id": "Y9QfkaigBqm_"
      }
    },
    {
      "cell_type": "code",
      "source": [
        "plt.figure(figsize=(10,8))\n",
        "sns.set(font_scale = 2)\n",
        "sns.set_style(\"white\")\n",
        "plt.grid()\n",
        "plt.plot(np.arange(140), normal_train_data[0],color='black',linewidth=3.0)\n",
        "plt.title(\"A Normal ECG\")"
      ],
      "metadata": {
        "execution": {
          "iopub.status.busy": "2022-01-21T11:17:06.452212Z",
          "iopub.execute_input": "2022-01-21T11:17:06.4524Z",
          "iopub.status.idle": "2022-01-21T11:17:06.727857Z",
          "shell.execute_reply.started": "2022-01-21T11:17:06.452377Z",
          "shell.execute_reply": "2022-01-21T11:17:06.727384Z"
        },
        "trusted": true,
        "id": "Mpw_5LRvBqm_"
      },
      "execution_count": null,
      "outputs": []
    },
    {
      "cell_type": "markdown",
      "source": [
        "Plot the abnormal ECG."
      ],
      "metadata": {
        "id": "8DXWA76aBqm_"
      }
    },
    {
      "cell_type": "code",
      "source": [
        "plt.figure(figsize=(10,8))\n",
        "sns.set(font_scale = 2)\n",
        "sns.set_style(\"white\")\n",
        "plt.grid()\n",
        "plt.plot(np.arange(140), anomalous_train_data[0],color='red',linewidth=3.0)\n",
        "plt.title(\"An Anomalous ECG\")\n",
        "plt.show()"
      ],
      "metadata": {
        "execution": {
          "iopub.status.busy": "2022-01-21T11:17:06.728735Z",
          "iopub.execute_input": "2022-01-21T11:17:06.72903Z",
          "iopub.status.idle": "2022-01-21T11:17:06.91753Z",
          "shell.execute_reply.started": "2022-01-21T11:17:06.729008Z",
          "shell.execute_reply": "2022-01-21T11:17:06.917112Z"
        },
        "trusted": true,
        "id": "GFSe-zW0Bqm_"
      },
      "execution_count": null,
      "outputs": []
    },
    {
      "cell_type": "markdown",
      "source": [
        "-----------------------------------\n",
        "# Modeling"
      ],
      "metadata": {
        "id": "QkDUkmXCBqm_"
      }
    },
    {
      "cell_type": "code",
      "source": [
        "class AnomalyDetector(Model):\n",
        "  def __init__(self):\n",
        "    super(AnomalyDetector, self).__init__()\n",
        "    self.encoder = tf.keras.Sequential([\n",
        "      layers.Dense(32, activation=\"relu\"),\n",
        "      layers.Dense(16, activation=\"relu\"),\n",
        "      layers.Dense(8, activation=\"relu\")])\n",
        "\n",
        "    self.decoder = tf.keras.Sequential([\n",
        "      layers.Dense(16, activation=\"relu\"),\n",
        "      layers.Dense(32, activation=\"relu\"),\n",
        "      layers.Dense(140, activation=\"sigmoid\")])\n",
        "\n",
        "  def call(self, x):\n",
        "    encoded = self.encoder(x)\n",
        "    decoded = self.decoder(encoded)\n",
        "    return decoded\n",
        "\n",
        "autoencoder = AnomalyDetector()"
      ],
      "metadata": {
        "execution": {
          "iopub.status.busy": "2022-01-21T11:17:06.920888Z",
          "iopub.execute_input": "2022-01-21T11:17:06.921169Z",
          "iopub.status.idle": "2022-01-21T11:17:06.956846Z",
          "shell.execute_reply.started": "2022-01-21T11:17:06.921141Z",
          "shell.execute_reply": "2022-01-21T11:17:06.956113Z"
        },
        "trusted": true,
        "id": "YYIX4qMYBqm_"
      },
      "execution_count": null,
      "outputs": []
    },
    {
      "cell_type": "code",
      "source": [
        "autoencoder.compile(optimizer='adam', loss='mae')"
      ],
      "metadata": {
        "execution": {
          "iopub.status.busy": "2022-01-21T11:17:06.957868Z",
          "iopub.execute_input": "2022-01-21T11:17:06.958137Z",
          "iopub.status.idle": "2022-01-21T11:17:06.977408Z",
          "shell.execute_reply.started": "2022-01-21T11:17:06.958115Z",
          "shell.execute_reply": "2022-01-21T11:17:06.976383Z"
        },
        "trusted": true,
        "id": "b1BwGcQZBqnA"
      },
      "execution_count": null,
      "outputs": []
    },
    {
      "cell_type": "markdown",
      "source": [
        "-----------------------------\n",
        "# Training\n",
        "The autoencoder is trained using only regular ECGs, but evaluated using the full test set."
      ],
      "metadata": {
        "id": "Q-6Kvu0lBqnA"
      }
    },
    {
      "cell_type": "code",
      "source": [
        "history = autoencoder.fit(normal_train_data, normal_train_data,\n",
        "          epochs=20,\n",
        "          batch_size=512,\n",
        "          validation_data=(test_data, test_data),\n",
        "          shuffle=True)"
      ],
      "metadata": {
        "_kg_hide-output": true,
        "execution": {
          "iopub.status.busy": "2022-01-21T11:17:06.9785Z",
          "iopub.execute_input": "2022-01-21T11:17:06.978677Z",
          "iopub.status.idle": "2022-01-21T11:17:10.100109Z",
          "shell.execute_reply.started": "2022-01-21T11:17:06.978655Z",
          "shell.execute_reply": "2022-01-21T11:17:10.099086Z"
        },
        "trusted": true,
        "id": "3iGKKkBVBqnA"
      },
      "execution_count": null,
      "outputs": []
    },
    {
      "cell_type": "code",
      "source": [
        "plt.figure(figsize=(10,8))\n",
        "sns.set(font_scale = 2)\n",
        "sns.set_style(\"white\")\n",
        "plt.plot(history.history[\"loss\"], label=\"Training Loss\",linewidth=3.0)\n",
        "plt.plot(history.history[\"val_loss\"], label=\"Validation Loss\",linewidth=3.0)\n",
        "plt.legend()"
      ],
      "metadata": {
        "execution": {
          "iopub.status.busy": "2022-01-21T11:17:10.102638Z",
          "iopub.execute_input": "2022-01-21T11:17:10.103114Z",
          "iopub.status.idle": "2022-01-21T11:17:10.383506Z",
          "shell.execute_reply.started": "2022-01-21T11:17:10.103089Z",
          "shell.execute_reply": "2022-01-21T11:17:10.382944Z"
        },
        "trusted": true,
        "id": "nCNAe58UBqnA"
      },
      "execution_count": null,
      "outputs": []
    },
    {
      "cell_type": "markdown",
      "source": [
        "If the reconstruction error is greater than one standard deviation from the normal training example, classify the ECG as abnormal. First, let's plot the normal ECG of the training set, the reconstruction after being encoded and decoded by the autoencoder, and the reconstruction error."
      ],
      "metadata": {
        "id": "zmrierqfBqnA"
      }
    },
    {
      "cell_type": "markdown",
      "source": [
        "---------------------------------------------\n",
        "# Testing using normal data"
      ],
      "metadata": {
        "id": "Wkixj-6RBqnA"
      }
    },
    {
      "cell_type": "code",
      "source": [
        "encoded_imgs = autoencoder.encoder(normal_test_data).numpy()\n",
        "decoded_imgs = autoencoder.decoder(encoded_imgs).numpy()\n",
        "\n",
        "for i in range(0,3):\n",
        "    plt.figure(figsize=(10,8))\n",
        "    sns.set(font_scale = 2)\n",
        "    sns.set_style(\"white\")\n",
        "    plt.plot(normal_test_data[i], 'black',linewidth=2)\n",
        "    plt.plot(decoded_imgs[i], 'red',linewidth=2)\n",
        "    plt.fill_between(np.arange(140), decoded_imgs[i], normal_test_data[i], color='lightcoral')\n",
        "    plt.legend(labels=[\"Input\", \"Reconstruction\", \"Error\"])\n",
        "    plt.show()"
      ],
      "metadata": {
        "execution": {
          "iopub.status.busy": "2022-01-21T11:17:10.384678Z",
          "iopub.execute_input": "2022-01-21T11:17:10.38523Z",
          "iopub.status.idle": "2022-01-21T11:17:11.220932Z",
          "shell.execute_reply.started": "2022-01-21T11:17:10.385199Z",
          "shell.execute_reply": "2022-01-21T11:17:11.219547Z"
        },
        "trusted": true,
        "id": "rDcppOAyBqnA"
      },
      "execution_count": null,
      "outputs": []
    },
    {
      "cell_type": "code",
      "source": [
        "encoded_imgs_normal = pd.DataFrame(encoded_imgs)\n",
        "encoded_imgs_normal['label'] = 1"
      ],
      "metadata": {
        "execution": {
          "iopub.status.busy": "2022-01-21T11:17:11.222266Z",
          "iopub.execute_input": "2022-01-21T11:17:11.222914Z",
          "iopub.status.idle": "2022-01-21T11:17:11.228655Z",
          "shell.execute_reply.started": "2022-01-21T11:17:11.222848Z",
          "shell.execute_reply": "2022-01-21T11:17:11.227398Z"
        },
        "trusted": true,
        "id": "J9TUvzQZBqnA"
      },
      "execution_count": null,
      "outputs": []
    },
    {
      "cell_type": "markdown",
      "source": [
        "-------------------------------------------\n",
        "# Testing using abnormal data\n",
        "\n",
        "Create a similar plot, this time from abnormal testing examples."
      ],
      "metadata": {
        "id": "etmxC359BqnB"
      }
    },
    {
      "cell_type": "code",
      "source": [
        "encoded_imgs = autoencoder.encoder(anomalous_test_data).numpy()\n",
        "decoded_imgs = autoencoder.decoder(encoded_imgs).numpy()\n",
        "\n",
        "for i in range(0,3):\n",
        "    plt.figure(figsize=(10,8))\n",
        "    sns.set(font_scale = 2)\n",
        "    sns.set_style(\"white\")\n",
        "    plt.plot(anomalous_test_data[i], 'black',linewidth=2)\n",
        "    plt.plot(decoded_imgs[i], 'red',linewidth=2)\n",
        "    plt.fill_between(np.arange(140), decoded_imgs[i], anomalous_test_data[i], color='lightcoral')\n",
        "    plt.legend(labels=[\"Input\", \"Reconstruction\", \"Error\"])\n",
        "    plt.show()"
      ],
      "metadata": {
        "execution": {
          "iopub.status.busy": "2022-01-21T11:17:11.229832Z",
          "iopub.execute_input": "2022-01-21T11:17:11.230066Z",
          "iopub.status.idle": "2022-01-21T11:17:12.047756Z",
          "shell.execute_reply.started": "2022-01-21T11:17:11.230044Z",
          "shell.execute_reply": "2022-01-21T11:17:12.046722Z"
        },
        "trusted": true,
        "id": "p8tq-VUHBqnB"
      },
      "execution_count": null,
      "outputs": []
    },
    {
      "cell_type": "code",
      "source": [
        "encoded_imgs_abnormal = pd.DataFrame(encoded_imgs)\n",
        "encoded_imgs_abnormal['label'] = 0"
      ],
      "metadata": {
        "execution": {
          "iopub.status.busy": "2022-01-21T11:17:12.048951Z",
          "iopub.execute_input": "2022-01-21T11:17:12.049139Z",
          "iopub.status.idle": "2022-01-21T11:17:12.056094Z",
          "shell.execute_reply.started": "2022-01-21T11:17:12.049118Z",
          "shell.execute_reply": "2022-01-21T11:17:12.054739Z"
        },
        "trusted": true,
        "id": "o_F25szEBqnB"
      },
      "execution_count": null,
      "outputs": []
    },
    {
      "cell_type": "markdown",
      "source": [
        "----------------------------------------------------------------------------\n",
        "# Ploting the Latent Space after Dimension Reduction"
      ],
      "metadata": {
        "id": "6MJUD6neBqnB"
      }
    },
    {
      "cell_type": "code",
      "source": [
        "all_encoded = pd.concat([encoded_imgs_normal,encoded_imgs_abnormal])"
      ],
      "metadata": {
        "execution": {
          "iopub.status.busy": "2022-01-21T11:17:12.057598Z",
          "iopub.execute_input": "2022-01-21T11:17:12.057815Z",
          "iopub.status.idle": "2022-01-21T11:17:12.070373Z",
          "shell.execute_reply.started": "2022-01-21T11:17:12.057792Z",
          "shell.execute_reply": "2022-01-21T11:17:12.069804Z"
        },
        "trusted": true,
        "id": "qg-2l3RgBqnB"
      },
      "execution_count": null,
      "outputs": []
    },
    {
      "cell_type": "code",
      "source": [
        "mapper = umap.UMAP().fit(all_encoded.iloc[:,:8])\n",
        "umap.plot.points(mapper, labels=all_encoded.iloc[:,8], theme='fire')"
      ],
      "metadata": {
        "execution": {
          "iopub.status.busy": "2022-01-21T11:17:12.071594Z",
          "iopub.execute_input": "2022-01-21T11:17:12.071849Z",
          "iopub.status.idle": "2022-01-21T11:17:20.346701Z",
          "shell.execute_reply.started": "2022-01-21T11:17:12.07182Z",
          "shell.execute_reply": "2022-01-21T11:17:20.345979Z"
        },
        "trusted": true,
        "id": "aI1SSIE7BqnC"
      },
      "execution_count": null,
      "outputs": []
    },
    {
      "cell_type": "markdown",
      "source": [
        "The figure above shows Dimension Reduction of the latent space for normal and abnormal data. This latent space is a space that has undergone Dimension Reduction by compressing 140-dimensional input into 8-dimensional space.\n",
        "We compressed this space back into two dimensions to obtain the picture above.\n",
        "\n",
        "Looking at the above figure again, it can be confirmed that normal and abnormal data are well separated in the latent space. This is the power of autoencoders, and it can be seen as one of the ways to solve the dimensional curse from the neural network point of view.\n",
        "\n",
        "It will be helpful to refer to the notebook below in Dimension Reduction.\n",
        "\n",
        "https://www.kaggle.com/ohseokkim/the-curse-of-dimensionality-dimension-reduction"
      ],
      "metadata": {
        "id": "DbN-o_X3BqnC"
      }
    },
    {
      "cell_type": "markdown",
      "source": [
        "## UMAP connectivity plot\n",
        "> UMAP works by constructing an intermediate topological representation of the approximate manifold the data may have been sampled from. In practice this structure can be simplified down to a weighted graph. Sometimes it can be beneficial to see how that graph (representing connectivity in the manifold) looks with respect to the resulting embedding. It can be used to better understand the embedding, and for diagnostic purposes.\n",
        "\n",
        "Ref: https://umap-learn.readthedocs.io"
      ],
      "metadata": {
        "id": "vn3Hgp4bBqnC"
      }
    },
    {
      "cell_type": "code",
      "source": [
        "umap.plot.connectivity(mapper, show_points=True)"
      ],
      "metadata": {
        "execution": {
          "iopub.status.busy": "2022-01-21T11:17:20.347855Z",
          "iopub.execute_input": "2022-01-21T11:17:20.348605Z",
          "iopub.status.idle": "2022-01-21T11:17:23.910944Z",
          "shell.execute_reply.started": "2022-01-21T11:17:20.348556Z",
          "shell.execute_reply": "2022-01-21T11:17:23.909746Z"
        },
        "trusted": true,
        "id": "tkAxqdqnBqnC"
      },
      "execution_count": null,
      "outputs": []
    },
    {
      "cell_type": "markdown",
      "source": [
        "<hr style=\"border: solid 3px blue;\">\n",
        "\n",
        "# Detecting Anomaly\n",
        "\n",
        "Anomalies are detected by calculating whether the reconstruction loss is greater than a fixed threshold. In this tutorial, we compute the mean error for normal examples in the training set, and then classify future examples as abnormal if the reconstruction error is greater than the standard deviation of the training set.\n",
        "\n",
        "Plot the reconstruction error for normal ECGs in the training set."
      ],
      "metadata": {
        "id": "yZsZShKCBqnC"
      }
    },
    {
      "cell_type": "code",
      "source": [
        "reconstructions = autoencoder.predict(normal_train_data)\n",
        "train_loss = tf.keras.losses.mae(reconstructions, normal_train_data)"
      ],
      "metadata": {
        "execution": {
          "iopub.status.busy": "2021-11-25T12:45:08.15452Z",
          "iopub.execute_input": "2021-11-25T12:45:08.154777Z",
          "iopub.status.idle": "2021-11-25T12:45:08.355789Z",
          "shell.execute_reply.started": "2021-11-25T12:45:08.154749Z",
          "shell.execute_reply": "2021-11-25T12:45:08.354681Z"
        },
        "trusted": true,
        "id": "el7pFnCvBqnC"
      },
      "execution_count": null,
      "outputs": []
    },
    {
      "cell_type": "code",
      "source": [
        "np.mean(train_loss)"
      ],
      "metadata": {
        "execution": {
          "iopub.status.busy": "2021-11-25T12:45:08.357284Z",
          "iopub.execute_input": "2021-11-25T12:45:08.357513Z",
          "iopub.status.idle": "2021-11-25T12:45:08.36502Z",
          "shell.execute_reply.started": "2021-11-25T12:45:08.357486Z",
          "shell.execute_reply": "2021-11-25T12:45:08.364102Z"
        },
        "trusted": true,
        "id": "WlIgdf4NBqnC"
      },
      "execution_count": null,
      "outputs": []
    },
    {
      "cell_type": "code",
      "source": [
        "plt.figure(figsize=(10,8))\n",
        "sns.set(font_scale = 2)\n",
        "sns.set_style(\"white\")\n",
        "sns.histplot(train_loss ,bins=50,kde=True,color='grey',linewidth=3)\n",
        "plt.axvline(x=np.mean(train_loss), color='g', linestyle='--', linewidth=3)\n",
        "plt.text(np.mean(train_loss), 200, \"Mean\", horizontalalignment='left',\n",
        "         size='small', color='black', weight='semibold')\n",
        "plt.xlabel(\"Train loss\")\n",
        "plt.ylabel(\"No of examples\")\n",
        "sns.despine()"
      ],
      "metadata": {
        "execution": {
          "iopub.status.busy": "2021-11-25T12:45:08.366751Z",
          "iopub.execute_input": "2021-11-25T12:45:08.367618Z",
          "iopub.status.idle": "2021-11-25T12:45:08.767854Z",
          "shell.execute_reply.started": "2021-11-25T12:45:08.367574Z",
          "shell.execute_reply": "2021-11-25T12:45:08.766573Z"
        },
        "trusted": true,
        "id": "-ElGlRskBqnC"
      },
      "execution_count": null,
      "outputs": []
    },
    {
      "cell_type": "markdown",
      "source": [
        "Let's choose a threshold with a standard deviation higher than the mean."
      ],
      "metadata": {
        "id": "2cjE3Wm0BqnD"
      }
    },
    {
      "cell_type": "code",
      "source": [
        "threshold = np.mean(train_loss) + np.std(train_loss)\n",
        "print(\"Threshold: \", threshold)"
      ],
      "metadata": {
        "execution": {
          "iopub.status.busy": "2021-11-25T12:45:08.769243Z",
          "iopub.execute_input": "2021-11-25T12:45:08.769539Z",
          "iopub.status.idle": "2021-11-25T12:45:08.775142Z",
          "shell.execute_reply.started": "2021-11-25T12:45:08.769508Z",
          "shell.execute_reply": "2021-11-25T12:45:08.774342Z"
        },
        "trusted": true,
        "id": "tSNPFT6oBqnD"
      },
      "execution_count": null,
      "outputs": []
    },
    {
      "cell_type": "code",
      "source": [
        "plt.figure(figsize=(12,8))\n",
        "sns.set(font_scale = 2)\n",
        "sns.set_style(\"white\")\n",
        "sns.histplot(train_loss ,bins=50,kde=True,color='grey',linewidth=3)\n",
        "plt.axvline(x=np.mean(train_loss), color='g', linestyle='--', linewidth=3)\n",
        "plt.text(np.mean(train_loss), 200, \"Normal Mean\", horizontalalignment='center',\n",
        "         size='small', color='black', weight='semibold')\n",
        "plt.axvline(x=threshold, color='b', linestyle='--', linewidth=3)\n",
        "plt.text(threshold, 250, \"Threshold\", horizontalalignment='center',\n",
        "         size='small', color='Blue', weight='semibold')\n",
        "plt.xlabel(\"Train loss\")\n",
        "plt.ylabel(\"No of examples\")\n",
        "sns.despine()"
      ],
      "metadata": {
        "execution": {
          "iopub.status.busy": "2021-11-25T12:45:08.77642Z",
          "iopub.execute_input": "2021-11-25T12:45:08.776654Z",
          "iopub.status.idle": "2021-11-25T12:45:09.180879Z",
          "shell.execute_reply.started": "2021-11-25T12:45:08.77662Z",
          "shell.execute_reply": "2021-11-25T12:45:09.180048Z"
        },
        "trusted": true,
        "id": "GrK9krd1BqnD"
      },
      "execution_count": null,
      "outputs": []
    },
    {
      "cell_type": "markdown",
      "source": [
        "**Examining reconstruction errors for unusual examples in the test set reveals that most of them have reconstruction errors greater than the threshold(blue-dotted line=0.033).**"
      ],
      "metadata": {
        "id": "RdJq7vEMBqnD"
      }
    },
    {
      "cell_type": "code",
      "source": [
        "reconstructions = autoencoder.predict(anomalous_test_data)\n",
        "test_loss = tf.keras.losses.mae(reconstructions, anomalous_test_data)"
      ],
      "metadata": {
        "execution": {
          "iopub.status.busy": "2021-11-25T12:45:09.182108Z",
          "iopub.execute_input": "2021-11-25T12:45:09.182341Z",
          "iopub.status.idle": "2021-11-25T12:45:09.240627Z",
          "shell.execute_reply.started": "2021-11-25T12:45:09.182312Z",
          "shell.execute_reply": "2021-11-25T12:45:09.239612Z"
        },
        "trusted": true,
        "id": "njpLb2FdBqnD"
      },
      "execution_count": null,
      "outputs": []
    },
    {
      "cell_type": "code",
      "source": [
        "plt.figure(figsize=(12,8))\n",
        "sns.set(font_scale = 2)\n",
        "sns.set_style(\"white\")\n",
        "sns.histplot(test_loss ,bins=50,kde=True,color='red',linewidth=3)\n",
        "plt.axvline(x=np.mean(test_loss), color='g', linestyle='--', linewidth=3)\n",
        "plt.text(np.mean(test_loss), 30, \"Anomaly Mean\", horizontalalignment='center',\n",
        "         size='small', color='black', weight='semibold')\n",
        "plt.text(threshold, 50, \"Threshold\", horizontalalignment='center',\n",
        "         size='small', color='Blue', weight='semibold')\n",
        "plt.axvline(x=threshold, color='b', linestyle='--', linewidth=3)\n",
        "plt.xlabel(\"loss\")\n",
        "plt.ylabel(\"No of examples\")\n",
        "sns.despine()"
      ],
      "metadata": {
        "execution": {
          "iopub.status.busy": "2021-11-25T12:45:09.245009Z",
          "iopub.execute_input": "2021-11-25T12:45:09.245289Z",
          "iopub.status.idle": "2021-11-25T12:45:09.672528Z",
          "shell.execute_reply.started": "2021-11-25T12:45:09.245252Z",
          "shell.execute_reply": "2021-11-25T12:45:09.671745Z"
        },
        "trusted": true,
        "id": "RX0xsoFIBqnD"
      },
      "execution_count": null,
      "outputs": []
    },
    {
      "cell_type": "markdown",
      "source": [
        "If the reconstruction error is greater than the threshold(blue-dotted line), classify the ECG as abnormal."
      ],
      "metadata": {
        "id": "PQlEtI6XBqnD"
      }
    },
    {
      "cell_type": "code",
      "source": [
        "plt.figure(figsize=(12,8))\n",
        "sns.set(font_scale = 2)\n",
        "sns.set_style(\"white\")\n",
        "sns.histplot(train_loss ,bins=50,kde=True,color='grey',linewidth=3)\n",
        "plt.axvline(x=np.mean(train_loss), color='g', linestyle='--', linewidth=3)\n",
        "plt.text(np.mean(train_loss), 200, \"Normal Mean\", horizontalalignment='center',\n",
        "         size='small', color='black', weight='semibold')\n",
        "plt.axvline(x=threshold, color='b', linestyle='--', linewidth=3)\n",
        "plt.text(threshold, 250, \"Threshold\", horizontalalignment='center',\n",
        "         size='small', color='Blue', weight='semibold')\n",
        "\n",
        "sns.histplot(test_loss ,bins=50,kde=True,color='red',linewidth=3)\n",
        "plt.axvline(x=np.mean(test_loss), color='g', linestyle='--', linewidth=3)\n",
        "plt.text(np.mean(test_loss), 200, \"Anomaly Mean\", horizontalalignment='center',\n",
        "         size='small', color='black', weight='semibold')\n",
        "plt.axvline(x=threshold, color='b', linestyle='--', linewidth=3)\n",
        "plt.xlabel(\"loss\")\n",
        "plt.ylabel(\"No of examples\")\n",
        "sns.despine()"
      ],
      "metadata": {
        "execution": {
          "iopub.status.busy": "2021-11-25T12:45:09.673897Z",
          "iopub.execute_input": "2021-11-25T12:45:09.675086Z",
          "iopub.status.idle": "2021-11-25T12:45:10.221451Z",
          "shell.execute_reply.started": "2021-11-25T12:45:09.675034Z",
          "shell.execute_reply": "2021-11-25T12:45:10.22057Z"
        },
        "trusted": true,
        "id": "hP6jzykeBqnD"
      },
      "execution_count": null,
      "outputs": []
    },
    {
      "cell_type": "markdown",
      "source": [
        "Looking at the picture above, it seems that the threshold was set by considering the Normal and Anomaly distributions well. In particular, it seems that recall is more important than precision for abnomaly detection. In actual application, it may be necessary to consider fine-tuning the threshold."
      ],
      "metadata": {
        "id": "eVlI9wYIBqnD"
      }
    },
    {
      "cell_type": "markdown",
      "source": [
        "---------------------------------------------------------------\n",
        "# Predicting"
      ],
      "metadata": {
        "id": "e7cNWatlBqnD"
      }
    },
    {
      "cell_type": "code",
      "source": [
        "def predict(model, data, threshold):\n",
        "  reconstructions = model(data)\n",
        "  loss = tf.keras.losses.mae(reconstructions, data)\n",
        "  return tf.math.less(loss, threshold)\n",
        "\n",
        "def print_stats(predictions, labels):\n",
        "  print(\"Accuracy = {}\".format(accuracy_score(labels, preds)))\n",
        "  print(\"Precision = {}\".format(precision_score(labels, preds)))\n",
        "  print(\"Recall = {}\".format(recall_score(labels, preds)))"
      ],
      "metadata": {
        "execution": {
          "iopub.status.busy": "2021-11-25T12:45:10.22282Z",
          "iopub.execute_input": "2021-11-25T12:45:10.223803Z",
          "iopub.status.idle": "2021-11-25T12:45:10.231064Z",
          "shell.execute_reply.started": "2021-11-25T12:45:10.223753Z",
          "shell.execute_reply": "2021-11-25T12:45:10.230052Z"
        },
        "trusted": true,
        "id": "msjTsg9OBqnE"
      },
      "execution_count": null,
      "outputs": []
    },
    {
      "cell_type": "code",
      "source": [
        "preds = predict(autoencoder, test_data, threshold)\n",
        "print_stats(preds, test_labels)"
      ],
      "metadata": {
        "execution": {
          "iopub.status.busy": "2021-11-25T12:45:10.232294Z",
          "iopub.execute_input": "2021-11-25T12:45:10.232889Z",
          "iopub.status.idle": "2021-11-25T12:45:10.25745Z",
          "shell.execute_reply.started": "2021-11-25T12:45:10.232856Z",
          "shell.execute_reply": "2021-11-25T12:45:10.25643Z"
        },
        "trusted": true,
        "id": "0ZpW2rs2BqnE"
      },
      "execution_count": null,
      "outputs": []
    },
    {
      "cell_type": "code",
      "source": [
        "confusion_matrix = get_clf_eval(test_labels,preds,preds)\n",
        "plt.figure(figsize=(8,6))\n",
        "sns.set(font_scale = 2)\n",
        "sns.set_style(\"white\")\n",
        "sns.heatmap(confusion_matrix, cmap = 'gist_yarg_r',annot = True, fmt='d')"
      ],
      "metadata": {
        "execution": {
          "iopub.status.busy": "2021-11-25T12:45:10.259034Z",
          "iopub.execute_input": "2021-11-25T12:45:10.259389Z",
          "iopub.status.idle": "2021-11-25T12:45:10.497378Z",
          "shell.execute_reply.started": "2021-11-25T12:45:10.259335Z",
          "shell.execute_reply": "2021-11-25T12:45:10.496588Z"
        },
        "trusted": true,
        "id": "HKNjDzgWBqnE"
      },
      "execution_count": null,
      "outputs": []
    }
  ]
}